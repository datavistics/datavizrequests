{
 "cells": [
  {
   "cell_type": "code",
   "execution_count": 1,
   "metadata": {},
   "outputs": [],
   "source": [
    "import os\n",
    "import pandas as pd\n",
    "\n",
    "project_dir = os.path.join(os.path.dirname('__file__'), os.pardir)\n",
    "output_pkl = os.path.join(project_dir, 'data', 'internet_speed_test_data.pkl')\n",
    "df = pd.read_pickle(output_pkl)\n",
    "df = df[1:]\n"
   ]
  },
  {
   "cell_type": "code",
   "execution_count": 2,
   "metadata": {},
   "outputs": [],
   "source": [
    "first_day = df['datetime'].iloc[0].strftime('%b %d')\n",
    "last_day = df['datetime'].iloc[-1].strftime('%b %d')"
   ]
  },
  {
   "cell_type": "code",
   "execution_count": 3,
   "metadata": {},
   "outputs": [
    {
     "data": {
      "text/html": [
       "<div>\n",
       "<style>\n",
       "    .dataframe thead tr:only-child th {\n",
       "        text-align: right;\n",
       "    }\n",
       "\n",
       "    .dataframe thead th {\n",
       "        text-align: left;\n",
       "    }\n",
       "\n",
       "    .dataframe tbody tr th {\n",
       "        vertical-align: top;\n",
       "    }\n",
       "</style>\n",
       "<table border=\"1\" class=\"dataframe\">\n",
       "  <thead>\n",
       "    <tr style=\"text-align: right;\">\n",
       "      <th></th>\n",
       "      <th>datetime</th>\n",
       "      <th>ping</th>\n",
       "      <th>download</th>\n",
       "      <th>upload</th>\n",
       "    </tr>\n",
       "    <tr>\n",
       "      <th>datetime</th>\n",
       "      <th></th>\n",
       "      <th></th>\n",
       "      <th></th>\n",
       "      <th></th>\n",
       "    </tr>\n",
       "  </thead>\n",
       "  <tbody>\n",
       "    <tr>\n",
       "      <th>0</th>\n",
       "      <td>2017-08-31 00:00:02</td>\n",
       "      <td>26.239</td>\n",
       "      <td>6.91</td>\n",
       "      <td>7.91</td>\n",
       "    </tr>\n",
       "    <tr>\n",
       "      <th>2</th>\n",
       "      <td>2017-08-31 02:00:02</td>\n",
       "      <td>24.966</td>\n",
       "      <td>12.15</td>\n",
       "      <td>11.53</td>\n",
       "    </tr>\n",
       "    <tr>\n",
       "      <th>4</th>\n",
       "      <td>2017-08-31 04:00:02</td>\n",
       "      <td>24.941</td>\n",
       "      <td>18.96</td>\n",
       "      <td>13.20</td>\n",
       "    </tr>\n",
       "    <tr>\n",
       "      <th>6</th>\n",
       "      <td>2017-08-31 06:00:03</td>\n",
       "      <td>26.391</td>\n",
       "      <td>20.00</td>\n",
       "      <td>13.57</td>\n",
       "    </tr>\n",
       "    <tr>\n",
       "      <th>8</th>\n",
       "      <td>2017-08-31 08:00:02</td>\n",
       "      <td>25.194</td>\n",
       "      <td>29.88</td>\n",
       "      <td>5.67</td>\n",
       "    </tr>\n",
       "    <tr>\n",
       "      <th>10</th>\n",
       "      <td>2017-08-31 10:00:02</td>\n",
       "      <td>26.621</td>\n",
       "      <td>6.39</td>\n",
       "      <td>9.72</td>\n",
       "    </tr>\n",
       "    <tr>\n",
       "      <th>12</th>\n",
       "      <td>2017-08-30 12:00:03</td>\n",
       "      <td>25.819</td>\n",
       "      <td>20.16</td>\n",
       "      <td>3.91</td>\n",
       "    </tr>\n",
       "    <tr>\n",
       "      <th>14</th>\n",
       "      <td>2017-08-30 14:00:03</td>\n",
       "      <td>25.598</td>\n",
       "      <td>17.47</td>\n",
       "      <td>4.31</td>\n",
       "    </tr>\n",
       "    <tr>\n",
       "      <th>16</th>\n",
       "      <td>2017-08-30 16:00:03</td>\n",
       "      <td>26.429</td>\n",
       "      <td>20.13</td>\n",
       "      <td>3.23</td>\n",
       "    </tr>\n",
       "    <tr>\n",
       "      <th>18</th>\n",
       "      <td>2017-08-30 18:00:02</td>\n",
       "      <td>25.753</td>\n",
       "      <td>13.68</td>\n",
       "      <td>1.11</td>\n",
       "    </tr>\n",
       "    <tr>\n",
       "      <th>20</th>\n",
       "      <td>2017-08-30 20:00:03</td>\n",
       "      <td>26.210</td>\n",
       "      <td>14.14</td>\n",
       "      <td>5.78</td>\n",
       "    </tr>\n",
       "    <tr>\n",
       "      <th>22</th>\n",
       "      <td>2017-08-30 22:00:02</td>\n",
       "      <td>26.865</td>\n",
       "      <td>8.47</td>\n",
       "      <td>6.51</td>\n",
       "    </tr>\n",
       "  </tbody>\n",
       "</table>\n",
       "</div>"
      ],
      "text/plain": [
       "                    datetime    ping  download  upload\n",
       "datetime                                              \n",
       "0        2017-08-31 00:00:02  26.239      6.91    7.91\n",
       "2        2017-08-31 02:00:02  24.966     12.15   11.53\n",
       "4        2017-08-31 04:00:02  24.941     18.96   13.20\n",
       "6        2017-08-31 06:00:03  26.391     20.00   13.57\n",
       "8        2017-08-31 08:00:02  25.194     29.88    5.67\n",
       "10       2017-08-31 10:00:02  26.621      6.39    9.72\n",
       "12       2017-08-30 12:00:03  25.819     20.16    3.91\n",
       "14       2017-08-30 14:00:03  25.598     17.47    4.31\n",
       "16       2017-08-30 16:00:03  26.429     20.13    3.23\n",
       "18       2017-08-30 18:00:02  25.753     13.68    1.11\n",
       "20       2017-08-30 20:00:03  26.210     14.14    5.78\n",
       "22       2017-08-30 22:00:02  26.865      8.47    6.51"
      ]
     },
     "execution_count": 3,
     "metadata": {},
     "output_type": "execute_result"
    }
   ],
   "source": [
    "by_hour_mean = df.groupby([df['datetime'].dt.hour]).mean()\n",
    "by_hour_max = df.groupby([df['datetime'].dt.hour]).max()\n",
    "by_hour_min = df.groupby([df['datetime'].dt.hour]).min()\n",
    "by_hour_min"
   ]
  },
  {
   "cell_type": "code",
   "execution_count": 4,
   "metadata": {},
   "outputs": [
    {
     "name": "stdout",
     "output_type": "stream",
     "text": [
      "2.0.11\n"
     ]
    },
    {
     "data": {
      "text/html": [
       "<script>requirejs.config({paths: { 'plotly': ['https://cdn.plot.ly/plotly-latest.min']},});if(!window.Plotly) {{require(['plotly'],function(plotly) {window.Plotly=plotly;});}}</script>"
      ],
      "text/vnd.plotly.v1+html": [
       "<script>requirejs.config({paths: { 'plotly': ['https://cdn.plot.ly/plotly-latest.min']},});if(!window.Plotly) {{require(['plotly'],function(plotly) {window.Plotly=plotly;});}}</script>"
      ]
     },
     "metadata": {},
     "output_type": "display_data"
    }
   ],
   "source": [
    "import plotly as py\n",
    "from plotly.offline import download_plotlyjs, init_notebook_mode, plot, iplot\n",
    "from plotly.graph_objs import *\n",
    "import plotly.figure_factory as ff\n",
    "print(py.__version__)\n",
    "init_notebook_mode(connected=True)"
   ]
  },
  {
   "cell_type": "code",
   "execution_count": 5,
   "metadata": {},
   "outputs": [
    {
     "data": {
      "application/vnd.plotly.v1+json": {
       "data": [
        {
         "name": "mean",
         "type": "scatter",
         "x": [
          0,
          2,
          4,
          6,
          8,
          10,
          12,
          14,
          16,
          18,
          20,
          22
         ],
         "y": [
          33.6219,
          30.760557377049178,
          33.20101754385965,
          31.385416666666675,
          31.80377192982456,
          32.835,
          34.50098333333334,
          34.23353571428573,
          34.74235,
          33.3938813559322,
          35.25595161290322,
          32.968133333333334
         ]
        },
        {
         "name": "max",
         "type": "scatter",
         "x": [
          0,
          2,
          4,
          6,
          8,
          10,
          12,
          14,
          16,
          18,
          20,
          22
         ],
         "y": [
          59.091,
          42.71,
          49.772,
          45.026,
          46.893,
          46.755,
          59.553999999999995,
          64.406,
          52.913999999999994,
          53.81100000000001,
          65.176,
          48.513999999999996
         ]
        },
        {
         "name": "min",
         "type": "scatter",
         "x": [
          0,
          2,
          4,
          6,
          8,
          10,
          12,
          14,
          16,
          18,
          20,
          22
         ],
         "y": [
          26.239,
          24.965999999999998,
          24.941,
          26.391,
          25.194000000000003,
          26.621,
          25.819000000000003,
          25.598000000000003,
          26.429000000000002,
          25.753,
          26.21,
          26.865
         ]
        }
       ],
       "layout": {
        "title": "Ping Data from Aug 30 to Oct 30",
        "xaxis": {
         "title": "Hour of the Day",
         "titlefont": {
          "color": "#7f7f7f",
          "size": 18
         }
        },
        "yaxis": {
         "title": "Ping in ms",
         "titlefont": {
          "color": "#7f7f7f",
          "size": 18
         }
        }
       }
      },
      "text/html": [
       "<div id=\"b7e6bdac-13bf-436a-8c98-5c2865679068\" style=\"height: 525px; width: 100%;\" class=\"plotly-graph-div\"></div><script type=\"text/javascript\">require([\"plotly\"], function(Plotly) { window.PLOTLYENV=window.PLOTLYENV || {};window.PLOTLYENV.BASE_URL=\"https://plot.ly\";Plotly.newPlot(\"b7e6bdac-13bf-436a-8c98-5c2865679068\", [{\"type\": \"scatter\", \"x\": [0, 2, 4, 6, 8, 10, 12, 14, 16, 18, 20, 22], \"y\": [33.6219, 30.760557377049178, 33.20101754385965, 31.385416666666675, 31.80377192982456, 32.835, 34.50098333333334, 34.23353571428573, 34.74235, 33.3938813559322, 35.25595161290322, 32.968133333333334], \"name\": \"mean\"}, {\"type\": \"scatter\", \"x\": [0, 2, 4, 6, 8, 10, 12, 14, 16, 18, 20, 22], \"y\": [59.091, 42.71, 49.772, 45.026, 46.893, 46.755, 59.553999999999995, 64.406, 52.913999999999994, 53.81100000000001, 65.176, 48.513999999999996], \"name\": \"max\"}, {\"type\": \"scatter\", \"x\": [0, 2, 4, 6, 8, 10, 12, 14, 16, 18, 20, 22], \"y\": [26.239, 24.965999999999998, 24.941, 26.391, 25.194000000000003, 26.621, 25.819000000000003, 25.598000000000003, 26.429000000000002, 25.753, 26.21, 26.865], \"name\": \"min\"}], {\"title\": \"Ping Data from Aug 30 to Oct 30\", \"xaxis\": {\"title\": \"Hour of the Day\", \"titlefont\": {\"size\": 18, \"color\": \"#7f7f7f\"}}, \"yaxis\": {\"title\": \"Ping in ms\", \"titlefont\": {\"size\": 18, \"color\": \"#7f7f7f\"}}}, {\"showLink\": true, \"linkText\": \"Export to plot.ly\"})});</script>"
      ],
      "text/vnd.plotly.v1+html": [
       "<div id=\"b7e6bdac-13bf-436a-8c98-5c2865679068\" style=\"height: 525px; width: 100%;\" class=\"plotly-graph-div\"></div><script type=\"text/javascript\">require([\"plotly\"], function(Plotly) { window.PLOTLYENV=window.PLOTLYENV || {};window.PLOTLYENV.BASE_URL=\"https://plot.ly\";Plotly.newPlot(\"b7e6bdac-13bf-436a-8c98-5c2865679068\", [{\"type\": \"scatter\", \"x\": [0, 2, 4, 6, 8, 10, 12, 14, 16, 18, 20, 22], \"y\": [33.6219, 30.760557377049178, 33.20101754385965, 31.385416666666675, 31.80377192982456, 32.835, 34.50098333333334, 34.23353571428573, 34.74235, 33.3938813559322, 35.25595161290322, 32.968133333333334], \"name\": \"mean\"}, {\"type\": \"scatter\", \"x\": [0, 2, 4, 6, 8, 10, 12, 14, 16, 18, 20, 22], \"y\": [59.091, 42.71, 49.772, 45.026, 46.893, 46.755, 59.553999999999995, 64.406, 52.913999999999994, 53.81100000000001, 65.176, 48.513999999999996], \"name\": \"max\"}, {\"type\": \"scatter\", \"x\": [0, 2, 4, 6, 8, 10, 12, 14, 16, 18, 20, 22], \"y\": [26.239, 24.965999999999998, 24.941, 26.391, 25.194000000000003, 26.621, 25.819000000000003, 25.598000000000003, 26.429000000000002, 25.753, 26.21, 26.865], \"name\": \"min\"}], {\"title\": \"Ping Data from Aug 30 to Oct 30\", \"xaxis\": {\"title\": \"Hour of the Day\", \"titlefont\": {\"size\": 18, \"color\": \"#7f7f7f\"}}, \"yaxis\": {\"title\": \"Ping in ms\", \"titlefont\": {\"size\": 18, \"color\": \"#7f7f7f\"}}}, {\"showLink\": true, \"linkText\": \"Export to plot.ly\"})});</script>"
      ]
     },
     "metadata": {},
     "output_type": "display_data"
    }
   ],
   "source": [
    "ping_data = [Scatter(x=data.index, y=data.ping, name=name) for data, name in \n",
    "             ((by_hour_mean, 'mean'), (by_hour_max, 'max'), (by_hour_min, 'min'))]\n",
    "ping_layout = Layout(\n",
    "    title=f'Ping Data from {first_day} to {last_day}',\n",
    "    xaxis=dict(\n",
    "        title='Hour of the Day',\n",
    "        titlefont=dict(\n",
    "            size=18,\n",
    "            color='#7f7f7f'\n",
    "        )\n",
    "    ),\n",
    "    yaxis=dict(\n",
    "        title='Ping in ms',\n",
    "        titlefont=dict(\n",
    "            size=18,\n",
    "            color='#7f7f7f'\n",
    "        )\n",
    "    )\n",
    ")\n",
    "iplot(Figure(data=ping_data, layout=ping_layout))\n"
   ]
  },
  {
   "cell_type": "code",
   "execution_count": 6,
   "metadata": {},
   "outputs": [
    {
     "data": {
      "application/vnd.plotly.v1+json": {
       "data": [
        {
         "name": "mean",
         "type": "scatter",
         "x": [
          0,
          2,
          4,
          6,
          8,
          10,
          12,
          14,
          16,
          18,
          20,
          22
         ],
         "y": [
          165.8785,
          160.17000000000004,
          154.32578947368418,
          167.4321666666666,
          164.24684210526314,
          144.19275862068963,
          144.28266666666664,
          145.88339285714287,
          142.30466666666663,
          150.31694915254238,
          126.9338709677419,
          122.38149999999997
         ]
        },
        {
         "name": "max",
         "type": "scatter",
         "x": [
          0,
          2,
          4,
          6,
          8,
          10,
          12,
          14,
          16,
          18,
          20,
          22
         ],
         "y": [
          214.55,
          212.29,
          210.85,
          211.55,
          212.94,
          212.24,
          209.4,
          209.37,
          215.92,
          208.57,
          214.53,
          210.88
         ]
        },
        {
         "name": "min",
         "type": "scatter",
         "x": [
          0,
          2,
          4,
          6,
          8,
          10,
          12,
          14,
          16,
          18,
          20,
          22
         ],
         "y": [
          6.91,
          12.15,
          18.96,
          20,
          29.88,
          6.39,
          20.16,
          17.47,
          20.13,
          13.68,
          14.14,
          8.47
         ]
        }
       ],
       "layout": {
        "title": "Download Data from Aug 30 to Oct 30",
        "xaxis": {
         "title": "Hour of the Day",
         "titlefont": {
          "color": "#7f7f7f",
          "size": 18
         }
        },
        "yaxis": {
         "title": "Download Speed in Mbit/s",
         "titlefont": {
          "color": "#7f7f7f",
          "size": 18
         }
        }
       }
      },
      "text/html": [
       "<div id=\"2cdfe7ff-8aa6-4824-afc7-37cf3faa1a53\" style=\"height: 525px; width: 100%;\" class=\"plotly-graph-div\"></div><script type=\"text/javascript\">require([\"plotly\"], function(Plotly) { window.PLOTLYENV=window.PLOTLYENV || {};window.PLOTLYENV.BASE_URL=\"https://plot.ly\";Plotly.newPlot(\"2cdfe7ff-8aa6-4824-afc7-37cf3faa1a53\", [{\"type\": \"scatter\", \"x\": [0, 2, 4, 6, 8, 10, 12, 14, 16, 18, 20, 22], \"y\": [165.8785, 160.17000000000004, 154.32578947368418, 167.4321666666666, 164.24684210526314, 144.19275862068963, 144.28266666666664, 145.88339285714287, 142.30466666666663, 150.31694915254238, 126.9338709677419, 122.38149999999997], \"name\": \"mean\"}, {\"type\": \"scatter\", \"x\": [0, 2, 4, 6, 8, 10, 12, 14, 16, 18, 20, 22], \"y\": [214.55, 212.29, 210.85, 211.55, 212.94, 212.24, 209.4, 209.37, 215.92, 208.57, 214.53, 210.88], \"name\": \"max\"}, {\"type\": \"scatter\", \"x\": [0, 2, 4, 6, 8, 10, 12, 14, 16, 18, 20, 22], \"y\": [6.91, 12.15, 18.96, 20.0, 29.88, 6.39, 20.16, 17.47, 20.13, 13.68, 14.14, 8.47], \"name\": \"min\"}], {\"title\": \"Download Data from Aug 30 to Oct 30\", \"xaxis\": {\"title\": \"Hour of the Day\", \"titlefont\": {\"size\": 18, \"color\": \"#7f7f7f\"}}, \"yaxis\": {\"title\": \"Download Speed in Mbit/s\", \"titlefont\": {\"size\": 18, \"color\": \"#7f7f7f\"}}}, {\"showLink\": true, \"linkText\": \"Export to plot.ly\"})});</script>"
      ],
      "text/vnd.plotly.v1+html": [
       "<div id=\"2cdfe7ff-8aa6-4824-afc7-37cf3faa1a53\" style=\"height: 525px; width: 100%;\" class=\"plotly-graph-div\"></div><script type=\"text/javascript\">require([\"plotly\"], function(Plotly) { window.PLOTLYENV=window.PLOTLYENV || {};window.PLOTLYENV.BASE_URL=\"https://plot.ly\";Plotly.newPlot(\"2cdfe7ff-8aa6-4824-afc7-37cf3faa1a53\", [{\"type\": \"scatter\", \"x\": [0, 2, 4, 6, 8, 10, 12, 14, 16, 18, 20, 22], \"y\": [165.8785, 160.17000000000004, 154.32578947368418, 167.4321666666666, 164.24684210526314, 144.19275862068963, 144.28266666666664, 145.88339285714287, 142.30466666666663, 150.31694915254238, 126.9338709677419, 122.38149999999997], \"name\": \"mean\"}, {\"type\": \"scatter\", \"x\": [0, 2, 4, 6, 8, 10, 12, 14, 16, 18, 20, 22], \"y\": [214.55, 212.29, 210.85, 211.55, 212.94, 212.24, 209.4, 209.37, 215.92, 208.57, 214.53, 210.88], \"name\": \"max\"}, {\"type\": \"scatter\", \"x\": [0, 2, 4, 6, 8, 10, 12, 14, 16, 18, 20, 22], \"y\": [6.91, 12.15, 18.96, 20.0, 29.88, 6.39, 20.16, 17.47, 20.13, 13.68, 14.14, 8.47], \"name\": \"min\"}], {\"title\": \"Download Data from Aug 30 to Oct 30\", \"xaxis\": {\"title\": \"Hour of the Day\", \"titlefont\": {\"size\": 18, \"color\": \"#7f7f7f\"}}, \"yaxis\": {\"title\": \"Download Speed in Mbit/s\", \"titlefont\": {\"size\": 18, \"color\": \"#7f7f7f\"}}}, {\"showLink\": true, \"linkText\": \"Export to plot.ly\"})});</script>"
      ]
     },
     "metadata": {},
     "output_type": "display_data"
    }
   ],
   "source": [
    "download_data = [Scatter(x=data.index, y=data.download, name=name) for data, name in \n",
    "             ((by_hour_mean, 'mean'), (by_hour_max, 'max'), (by_hour_min, 'min'))]\n",
    "download_layout = Layout(\n",
    "    title=f'Download Data from {first_day} to {last_day}',\n",
    "    xaxis=dict(\n",
    "        title='Hour of the Day',\n",
    "        titlefont=dict(\n",
    "            size=18,\n",
    "            color='#7f7f7f'\n",
    "        )\n",
    "    ),\n",
    "    yaxis=dict(\n",
    "        title='Download Speed in Mbit/s',\n",
    "        titlefont=dict(\n",
    "            size=18,\n",
    "            color='#7f7f7f'\n",
    "        )\n",
    "    )\n",
    ")\n",
    "\n",
    "iplot(Figure(data=download_data, layout=download_layout))\n"
   ]
  },
  {
   "cell_type": "code",
   "execution_count": 7,
   "metadata": {},
   "outputs": [
    {
     "data": {
      "application/vnd.plotly.v1+json": {
       "data": [
        {
         "name": "mean",
         "type": "scatter",
         "x": [
          0,
          2,
          4,
          6,
          8,
          10,
          12,
          14,
          16,
          18,
          20,
          22
         ],
         "y": [
          20.906666666666656,
          21.4132786885246,
          21.726666666666677,
          21.732000000000006,
          21.045263157894734,
          21.306206896551725,
          20.16983333333334,
          20.239821428571428,
          20.640833333333333,
          19.646949152542376,
          19.931612903225805,
          19.798
         ]
        },
        {
         "name": "max",
         "type": "scatter",
         "x": [
          0,
          2,
          4,
          6,
          8,
          10,
          12,
          14,
          16,
          18,
          20,
          22
         ],
         "y": [
          24.02,
          24.51,
          24.53,
          24.22,
          24.06,
          24.2,
          24.45,
          24.77,
          24.48,
          23.74,
          24.1,
          23.99
         ]
        },
        {
         "name": "min",
         "type": "scatter",
         "x": [
          0,
          2,
          4,
          6,
          8,
          10,
          12,
          14,
          16,
          18,
          20,
          22
         ],
         "y": [
          7.91,
          11.53,
          13.2,
          13.57,
          5.67,
          9.72,
          3.91,
          4.31,
          3.23,
          1.11,
          5.78,
          6.51
         ]
        }
       ],
       "layout": {
        "title": "Upload Data from Aug 30 to Oct 30",
        "xaxis": {
         "title": "Hour of the Day",
         "titlefont": {
          "color": "#7f7f7f",
          "size": 18
         }
        },
        "yaxis": {
         "title": "Upload in Mbit/s",
         "titlefont": {
          "color": "#7f7f7f",
          "size": 18
         }
        }
       }
      },
      "text/html": [
       "<div id=\"f42e2b00-15ea-4f3b-bc28-d78d25efa9f4\" style=\"height: 525px; width: 100%;\" class=\"plotly-graph-div\"></div><script type=\"text/javascript\">require([\"plotly\"], function(Plotly) { window.PLOTLYENV=window.PLOTLYENV || {};window.PLOTLYENV.BASE_URL=\"https://plot.ly\";Plotly.newPlot(\"f42e2b00-15ea-4f3b-bc28-d78d25efa9f4\", [{\"type\": \"scatter\", \"x\": [0, 2, 4, 6, 8, 10, 12, 14, 16, 18, 20, 22], \"y\": [20.906666666666656, 21.4132786885246, 21.726666666666677, 21.732000000000006, 21.045263157894734, 21.306206896551725, 20.16983333333334, 20.239821428571428, 20.640833333333333, 19.646949152542376, 19.931612903225805, 19.798], \"name\": \"mean\"}, {\"type\": \"scatter\", \"x\": [0, 2, 4, 6, 8, 10, 12, 14, 16, 18, 20, 22], \"y\": [24.02, 24.51, 24.53, 24.22, 24.06, 24.2, 24.45, 24.77, 24.48, 23.74, 24.1, 23.99], \"name\": \"max\"}, {\"type\": \"scatter\", \"x\": [0, 2, 4, 6, 8, 10, 12, 14, 16, 18, 20, 22], \"y\": [7.91, 11.53, 13.2, 13.57, 5.67, 9.72, 3.91, 4.31, 3.23, 1.11, 5.78, 6.51], \"name\": \"min\"}], {\"title\": \"Upload Data from Aug 30 to Oct 30\", \"xaxis\": {\"title\": \"Hour of the Day\", \"titlefont\": {\"size\": 18, \"color\": \"#7f7f7f\"}}, \"yaxis\": {\"title\": \"Upload in Mbit/s\", \"titlefont\": {\"size\": 18, \"color\": \"#7f7f7f\"}}}, {\"showLink\": true, \"linkText\": \"Export to plot.ly\"})});</script>"
      ],
      "text/vnd.plotly.v1+html": [
       "<div id=\"f42e2b00-15ea-4f3b-bc28-d78d25efa9f4\" style=\"height: 525px; width: 100%;\" class=\"plotly-graph-div\"></div><script type=\"text/javascript\">require([\"plotly\"], function(Plotly) { window.PLOTLYENV=window.PLOTLYENV || {};window.PLOTLYENV.BASE_URL=\"https://plot.ly\";Plotly.newPlot(\"f42e2b00-15ea-4f3b-bc28-d78d25efa9f4\", [{\"type\": \"scatter\", \"x\": [0, 2, 4, 6, 8, 10, 12, 14, 16, 18, 20, 22], \"y\": [20.906666666666656, 21.4132786885246, 21.726666666666677, 21.732000000000006, 21.045263157894734, 21.306206896551725, 20.16983333333334, 20.239821428571428, 20.640833333333333, 19.646949152542376, 19.931612903225805, 19.798], \"name\": \"mean\"}, {\"type\": \"scatter\", \"x\": [0, 2, 4, 6, 8, 10, 12, 14, 16, 18, 20, 22], \"y\": [24.02, 24.51, 24.53, 24.22, 24.06, 24.2, 24.45, 24.77, 24.48, 23.74, 24.1, 23.99], \"name\": \"max\"}, {\"type\": \"scatter\", \"x\": [0, 2, 4, 6, 8, 10, 12, 14, 16, 18, 20, 22], \"y\": [7.91, 11.53, 13.2, 13.57, 5.67, 9.72, 3.91, 4.31, 3.23, 1.11, 5.78, 6.51], \"name\": \"min\"}], {\"title\": \"Upload Data from Aug 30 to Oct 30\", \"xaxis\": {\"title\": \"Hour of the Day\", \"titlefont\": {\"size\": 18, \"color\": \"#7f7f7f\"}}, \"yaxis\": {\"title\": \"Upload in Mbit/s\", \"titlefont\": {\"size\": 18, \"color\": \"#7f7f7f\"}}}, {\"showLink\": true, \"linkText\": \"Export to plot.ly\"})});</script>"
      ]
     },
     "metadata": {},
     "output_type": "display_data"
    }
   ],
   "source": [
    "upload_data = [Scatter(x=data.index, y=data.upload, name=name) for data, name in \n",
    "             ((by_hour_mean, 'mean'), (by_hour_max, 'max'), (by_hour_min, 'min'))]\n",
    "upload_layout = Layout(\n",
    "    title=f'Upload Data from {first_day} to {last_day}',\n",
    "    xaxis=dict(\n",
    "        title='Hour of the Day',\n",
    "        titlefont=dict(\n",
    "            size=18,\n",
    "            color='#7f7f7f'\n",
    "        )\n",
    "    ),\n",
    "    yaxis=dict(\n",
    "        title='Upload in Mbit/s',\n",
    "        titlefont=dict(\n",
    "            size=18,\n",
    "            color='#7f7f7f'\n",
    "        )\n",
    "    )\n",
    ")\n",
    "\n",
    "iplot(Figure(data=upload_data, layout=upload_layout))\n"
   ]
  }
 ],
 "metadata": {
  "kernelspec": {
   "display_name": "Python 3",
   "language": "python",
   "name": "python3"
  },
  "language_info": {
   "codemirror_mode": {
    "name": "ipython",
    "version": 3
   },
   "file_extension": ".py",
   "mimetype": "text/x-python",
   "name": "python",
   "nbconvert_exporter": "python",
   "pygments_lexer": "ipython3",
   "version": "3.6.2"
  }
 },
 "nbformat": 4,
 "nbformat_minor": 1
}
