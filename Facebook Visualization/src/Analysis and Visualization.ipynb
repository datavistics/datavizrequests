{
 "cells": [
  {
   "cell_type": "code",
   "execution_count": 2,
   "metadata": {
    "ExecuteTime": {
     "end_time": "2017-11-24T12:07:33.710945Z",
     "start_time": "2017-11-24T12:07:33.654Z"
    },
    "collapsed": true
   },
   "outputs": [],
   "source": [
    "options(warn=-1)"
   ]
  },
  {
   "cell_type": "code",
   "execution_count": 28,
   "metadata": {
    "ExecuteTime": {
     "end_time": "2017-11-24T12:07:43.967641Z",
     "start_time": "2017-11-24T12:07:43.442Z"
    }
   },
   "outputs": [],
   "source": [
    "require(XLConnect)"
   ]
  },
  {
   "cell_type": "code",
   "execution_count": 29,
   "metadata": {
    "ExecuteTime": {
     "end_time": "2017-11-24T12:07:45.540762Z",
     "start_time": "2017-11-24T12:07:45.508Z"
    }
   },
   "outputs": [],
   "source": [
    "library(tidyverse)\n",
    "library(reshape)\n",
    "library(ggplot2)"
   ]
  },
  {
   "cell_type": "code",
   "execution_count": 30,
   "metadata": {
    "ExecuteTime": {
     "end_time": "2017-11-24T12:07:47.095868Z",
     "start_time": "2017-11-24T12:07:47.067Z"
    }
   },
   "outputs": [],
   "source": [
    "library(choroplethr)"
   ]
  },
  {
   "cell_type": "code",
   "execution_count": 6,
   "metadata": {
    "ExecuteTime": {
     "end_time": "2017-11-24T12:07:37.423579Z",
     "start_time": "2017-11-24T12:07:33.660Z"
    },
    "collapsed": true
   },
   "outputs": [],
   "source": [
    "# install.packages('choroplethrMaps', repos='https://cran.rstudio.com')"
   ]
  },
  {
   "cell_type": "code",
   "execution_count": 7,
   "metadata": {
    "ExecuteTime": {
     "end_time": "2017-11-24T12:07:37.678664Z",
     "start_time": "2017-11-24T12:07:33.661Z"
    },
    "collapsed": true
   },
   "outputs": [],
   "source": [
    "library(hrbrthemes)\n",
    "library(formattable)"
   ]
  },
  {
   "cell_type": "markdown",
   "metadata": {},
   "source": [
    "# Daily Numbers\n",
    "## Categories\n",
    "This sheet shows the following observations by date:\n",
    "* Posts\n",
    "* Comments\n",
    "* Reactions\n",
    "* ActiveMembers\n",
    "* Total Members\n",
    "* Pending Members\n",
    "* Approved Member Requests\n",
    "* Declined Member Requests"
   ]
  },
  {
   "cell_type": "markdown",
   "metadata": {},
   "source": [
    "## Investigation\n",
    "1. It would be interesting to plot membership attributes: Total, Pending, and Declined. Maybe we can see trends of members leaving. \n",
    "1. Can we understand how active members are with posts over time in an informative way?\n",
    "1. Do posts and comments vary closely?"
   ]
  },
  {
   "cell_type": "code",
   "execution_count": 8,
   "metadata": {
    "ExecuteTime": {
     "end_time": "2017-11-24T12:07:38.876016Z",
     "start_time": "2017-11-24T12:07:33.663Z"
    },
    "collapsed": true
   },
   "outputs": [],
   "source": [
    "wb = loadWorkbook(\"../data/facebook_group_insights_11-19-2017.xlsx\")\n",
    "lst = readWorksheet(wb, sheet = getSheets(wb))"
   ]
  },
  {
   "cell_type": "code",
   "execution_count": 9,
   "metadata": {
    "ExecuteTime": {
     "end_time": "2017-11-24T12:07:39.013114Z",
     "start_time": "2017-11-24T12:07:33.665Z"
    }
   },
   "outputs": [
    {
     "data": {
      "text/html": [
       "<ol class=list-inline>\n",
       "\t<li>'Daily Numbers'</li>\n",
       "\t<li>'Members--Age and Gender'</li>\n",
       "\t<li>'Members--City'</li>\n",
       "\t<li>'Members--Country'</li>\n",
       "</ol>\n"
      ],
      "text/latex": [
       "\\begin{enumerate*}\n",
       "\\item 'Daily Numbers'\n",
       "\\item 'Members--Age and Gender'\n",
       "\\item 'Members--City'\n",
       "\\item 'Members--Country'\n",
       "\\end{enumerate*}\n"
      ],
      "text/markdown": [
       "1. 'Daily Numbers'\n",
       "2. 'Members--Age and Gender'\n",
       "3. 'Members--City'\n",
       "4. 'Members--Country'\n",
       "\n",
       "\n"
      ],
      "text/plain": [
       "[1] \"Daily Numbers\"           \"Members--Age and Gender\"\n",
       "[3] \"Members--City\"           \"Members--Country\"       "
      ]
     },
     "metadata": {},
     "output_type": "display_data"
    }
   ],
   "source": [
    "lst$Posts <- NULL\n",
    "lst$Contributors <- NULL\n",
    "lst$`Popular Times` <- NULL\n",
    "lst$`Popular Days` <- NULL"
   ]
  },
  {
   "cell_type": "code",
   "execution_count": 10,
   "metadata": {
    "ExecuteTime": {
     "end_time": "2017-11-24T12:07:39.105179Z",
     "start_time": "2017-11-24T12:07:33.666Z"
    },
    "collapsed": true
   },
   "outputs": [],
   "source": [
    "daily.numbers = lst$`Daily Numbers`"
   ]
  },
  {
   "cell_type": "code",
   "execution_count": 11,
   "metadata": {
    "ExecuteTime": {
     "end_time": "2017-11-24T12:07:39.196244Z",
     "start_time": "2017-11-24T12:07:33.667Z"
    }
   },
   "outputs": [
    {
     "name": "stdout",
     "output_type": "stream",
     "text": [
      "Observations: 126\n",
      "Variables: 9\n",
      "$ Date                     <dttm> 2017-07-13 23:00:00, 2017-07-14 23:00:00,...\n",
      "$ Posts                    <dbl> 655, 415, 547, 756, 731, 697, 696, 566, 43...\n",
      "$ Comments                 <dbl> 109, 55, 35, 76, 104, 61, 45, 49, 34, 106,...\n",
      "$ Reactions                <dbl> 126, 75, 100, 117, 180, 97, 116, 118, 56, ...\n",
      "$ Active.Members           <dbl> 2494, 2193, 2350, 2637, 2741, 2545, 2369, ...\n",
      "$ Total.Members            <dbl> 46132, 46129, 46122, 46118, 46108, 46101, ...\n",
      "$ Pending.Members          <dbl> 880, 931, 970, 998, 1038, 1082, 1123, 1164...\n",
      "$ Approved.Member.Requests <dbl> 0, 0, 0, 0, 0, 0, 0, 0, 0, 0, 0, 0, 0, 0, ...\n",
      "$ Declined.Member.Requests <dbl> 0, 0, 0, 0, 0, 0, 0, 0, 0, 0, 0, 0, 0, 0, ...\n"
     ]
    }
   ],
   "source": [
    "glimpse(daily.numbers)"
   ]
  },
  {
   "cell_type": "code",
   "execution_count": 12,
   "metadata": {
    "ExecuteTime": {
     "end_time": "2017-11-24T12:07:40.046850Z",
     "start_time": "2017-11-24T12:07:33.670Z"
    }
   },
   "outputs": [
    {
     "name": "stderr",
     "output_type": "stream",
     "text": [
      "`geom_smooth()` using method = 'loess'\n"
     ]
    },
    {
     "data": {},
     "metadata": {},
     "output_type": "display_data"
    },
    {
     "data": {
      "image/png": "[encoded data removed]",
      "text/plain": [
       "plot without title"
      ]
     },
     "metadata": {},
     "output_type": "display_data"
    }
   ],
   "source": [
    "ggplot(daily.numbers, aes(x=Date, y=Posts)) +\n",
    "  geom_point() +\n",
    "  geom_smooth()"
   ]
  },
  {
   "cell_type": "markdown",
   "metadata": {},
   "source": [
    "We can see that there is a TON of variance... what gives? Its because which day of the week has a huge impact. If you dont believe me just plot a line over the scatter."
   ]
  },
  {
   "cell_type": "markdown",
   "metadata": {},
   "source": [
    "Lets look at this data a different way. It would be great if there was a way to visualize this data as a calendar wouldnt it? But then how would we show varying values? A heatmap should do the trick! Sure enough there is an [easy way](http://austinwehrwein.com/data-visualization/heatmaps-with-divvy-data/) to do this in ggplot2."
   ]
  },
  {
   "cell_type": "code",
   "execution_count": 13,
   "metadata": {
    "ExecuteTime": {
     "end_time": "2017-11-24T12:07:40.160932Z",
     "start_time": "2017-11-24T12:07:33.671Z"
    },
    "collapsed": true
   },
   "outputs": [],
   "source": [
    "daily.numbers<-daily.numbers %>%\n",
    "  mutate(weekday=factor(weekdays(Date,T),levels = rev(c(\"Mon\", \"Tue\", \"Wed\", \"Thu\",\"Fri\", \"Sat\", \"Sun\"))))%>%\n",
    "  mutate(year=format(Date,'%Y'))%>%\n",
    "  mutate(week=as.numeric(format(Date,\"%W\")))"
   ]
  },
  {
   "cell_type": "code",
   "execution_count": 14,
   "metadata": {
    "ExecuteTime": {
     "end_time": "2017-11-24T12:07:41.176653Z",
     "start_time": "2017-11-24T12:07:33.673Z"
    }
   },
   "outputs": [
    {
     "data": {},
     "metadata": {},
     "output_type": "display_data"
    },
    {
     "data": {
      "image/png": "[encoded data removed]",
      "text/plain": [
       "plot without title"
      ]
     },
     "metadata": {},
     "output_type": "display_data"
    }
   ],
   "source": [
    "ggplot(daily.numbers, aes(x = week, y = weekday, fill = Posts)) +\n",
    "    viridis::scale_fill_viridis(name=\"daily.numbers\",\n",
    "                       option = 'C',\n",
    "                       direction = 1,\n",
    "                       na.value = \"grey93\") +\n",
    "    geom_tile(color = 'white', size = 0.1) +\n",
    "    facet_wrap('year', ncol = 1) +\n",
    "    scale_x_continuous(\n",
    "      expand = c(0, 0),\n",
    "      breaks = seq(1, 52, length = 12),\n",
    "      labels = c(\"Jan\", \"Feb\", \"Mar\", \"Apr\", \"May\", \"Jun\",\n",
    "                 \"Jul\", \"Aug\", \"Sep\", \"Oct\", \"Nov\", \"Dec\")) +\n",
    "    theme_ipsum_rc(plot_title_family = 'Slabo 27px')"
   ]
  },
  {
   "cell_type": "code",
   "execution_count": 15,
   "metadata": {
    "ExecuteTime": {
     "end_time": "2017-11-24T12:07:41.401815Z",
     "start_time": "2017-11-24T12:07:33.675Z"
    }
   },
   "outputs": [
    {
     "data": {
      "text/html": [
       "<table>\n",
       "<thead><tr><th scope=col>Date</th><th scope=col>Posts</th><th scope=col>Comments</th><th scope=col>Reactions</th><th scope=col>Active.Members</th><th scope=col>Total.Members</th><th scope=col>Pending.Members</th><th scope=col>Approved.Member.Requests</th><th scope=col>Declined.Member.Requests</th><th scope=col>weekday</th><th scope=col>year</th><th scope=col>week</th></tr></thead>\n",
       "<tbody>\n",
       "\t<tr><td>2017-07-13 23:00:00</td><td>655                </td><td>109                </td><td>126                </td><td>2494               </td><td>46132              </td><td> 880               </td><td>0                  </td><td>0                  </td><td>Thu                </td><td>2017               </td><td>28                 </td></tr>\n",
       "\t<tr><td>2017-07-14 23:00:00</td><td>415                </td><td> 55                </td><td> 75                </td><td>2193               </td><td>46129              </td><td> 931               </td><td>0                  </td><td>0                  </td><td>Fri                </td><td>2017               </td><td>28                 </td></tr>\n",
       "\t<tr><td>2017-07-15 23:00:00</td><td>547                </td><td> 35                </td><td>100                </td><td>2350               </td><td>46122              </td><td> 970               </td><td>0                  </td><td>0                  </td><td>Sat                </td><td>2017               </td><td>28                 </td></tr>\n",
       "\t<tr><td>2017-07-16 23:00:00</td><td>756                </td><td> 76                </td><td>117                </td><td>2637               </td><td>46118              </td><td> 998               </td><td>0                  </td><td>0                  </td><td>Sun                </td><td>2017               </td><td>28                 </td></tr>\n",
       "\t<tr><td>2017-07-17 23:00:00</td><td>731                </td><td>104                </td><td>180                </td><td>2741               </td><td>46108              </td><td>1038               </td><td>0                  </td><td>0                  </td><td>Mon                </td><td>2017               </td><td>29                 </td></tr>\n",
       "\t<tr><td>2017-07-18 23:00:00</td><td>697                </td><td> 61                </td><td> 97                </td><td>2545               </td><td>46101              </td><td>1082               </td><td>0                  </td><td>0                  </td><td>Tue                </td><td>2017               </td><td>29                 </td></tr>\n",
       "</tbody>\n",
       "</table>\n"
      ],
      "text/latex": [
       "\\begin{tabular}{r|llllllllllll}\n",
       " Date & Posts & Comments & Reactions & Active.Members & Total.Members & Pending.Members & Approved.Member.Requests & Declined.Member.Requests & weekday & year & week\\\\\n",
       "\\hline\n",
       "\t 2017-07-13 23:00:00 & 655                 & 109                 & 126                 & 2494                & 46132               &  880                & 0                   & 0                   & Thu                 & 2017                & 28                 \\\\\n",
       "\t 2017-07-14 23:00:00 & 415                 &  55                 &  75                 & 2193                & 46129               &  931                & 0                   & 0                   & Fri                 & 2017                & 28                 \\\\\n",
       "\t 2017-07-15 23:00:00 & 547                 &  35                 & 100                 & 2350                & 46122               &  970                & 0                   & 0                   & Sat                 & 2017                & 28                 \\\\\n",
       "\t 2017-07-16 23:00:00 & 756                 &  76                 & 117                 & 2637                & 46118               &  998                & 0                   & 0                   & Sun                 & 2017                & 28                 \\\\\n",
       "\t 2017-07-17 23:00:00 & 731                 & 104                 & 180                 & 2741                & 46108               & 1038                & 0                   & 0                   & Mon                 & 2017                & 29                 \\\\\n",
       "\t 2017-07-18 23:00:00 & 697                 &  61                 &  97                 & 2545                & 46101               & 1082                & 0                   & 0                   & Tue                 & 2017                & 29                 \\\\\n",
       "\\end{tabular}\n"
      ],
      "text/markdown": [
       "\n",
       "Date | Posts | Comments | Reactions | Active.Members | Total.Members | Pending.Members | Approved.Member.Requests | Declined.Member.Requests | weekday | year | week | \n",
       "|---|---|---|---|---|---|\n",
       "| 2017-07-13 23:00:00 | 655                 | 109                 | 126                 | 2494                | 46132               |  880                | 0                   | 0                   | Thu                 | 2017                | 28                  | \n",
       "| 2017-07-14 23:00:00 | 415                 |  55                 |  75                 | 2193                | 46129               |  931                | 0                   | 0                   | Fri                 | 2017                | 28                  | \n",
       "| 2017-07-15 23:00:00 | 547                 |  35                 | 100                 | 2350                | 46122               |  970                | 0                   | 0                   | Sat                 | 2017                | 28                  | \n",
       "| 2017-07-16 23:00:00 | 756                 |  76                 | 117                 | 2637                | 46118               |  998                | 0                   | 0                   | Sun                 | 2017                | 28                  | \n",
       "| 2017-07-17 23:00:00 | 731                 | 104                 | 180                 | 2741                | 46108               | 1038                | 0                   | 0                   | Mon                 | 2017                | 29                  | \n",
       "| 2017-07-18 23:00:00 | 697                 |  61                 |  97                 | 2545                | 46101               | 1082                | 0                   | 0                   | Tue                 | 2017                | 29                  | \n",
       "\n",
       "\n"
      ],
      "text/plain": [
       "  Date                Posts Comments Reactions Active.Members Total.Members\n",
       "1 2017-07-13 23:00:00 655   109      126       2494           46132        \n",
       "2 2017-07-14 23:00:00 415    55       75       2193           46129        \n",
       "3 2017-07-15 23:00:00 547    35      100       2350           46122        \n",
       "4 2017-07-16 23:00:00 756    76      117       2637           46118        \n",
       "5 2017-07-17 23:00:00 731   104      180       2741           46108        \n",
       "6 2017-07-18 23:00:00 697    61       97       2545           46101        \n",
       "  Pending.Members Approved.Member.Requests Declined.Member.Requests weekday\n",
       "1  880            0                        0                        Thu    \n",
       "2  931            0                        0                        Fri    \n",
       "3  970            0                        0                        Sat    \n",
       "4  998            0                        0                        Sun    \n",
       "5 1038            0                        0                        Mon    \n",
       "6 1082            0                        0                        Tue    \n",
       "  year week\n",
       "1 2017 28  \n",
       "2 2017 28  \n",
       "3 2017 28  \n",
       "4 2017 28  \n",
       "5 2017 29  \n",
       "6 2017 29  "
      ]
     },
     "metadata": {},
     "output_type": "display_data"
    }
   ],
   "source": [
    "head(daily.numbers)"
   ]
  },
  {
   "cell_type": "code",
   "execution_count": 18,
   "metadata": {
    "ExecuteTime": {
     "end_time": "2017-11-24T12:07:42.017252Z",
     "start_time": "2017-11-24T12:07:33.680Z"
    }
   },
   "outputs": [
    {
     "data": {},
     "metadata": {},
     "output_type": "display_data"
    },
    {
     "data": {
      "image/png": "[encoded data removed]",
      "text/plain": [
       "plot without title"
      ]
     },
     "metadata": {},
     "output_type": "display_data"
    }
   ],
   "source": [
    "daily.members <- daily.numbers %>%\n",
    "    reshape2:::melt.data.frame(id.vars='Date', measure.vars=c('Total.Members', 'Pending.Members', 'Approved.Member.Requests', 'Declined.Member.Requests'),\n",
    "                              variable.name='Membership.Type', value.name='Membership.Count')\n",
    "\n",
    "ggplot(daily.members, aes(x=Date, y=Membership.Count, color=Membership.Type)) +\n",
    "  geom_point(aes(fill=Membership.Type))"
   ]
  },
  {
   "cell_type": "markdown",
   "metadata": {},
   "source": [
    "We can see a general trend. I suspect that the data is inaccurate, so I will hold off from hardcoding my thoughts."
   ]
  },
  {
   "cell_type": "markdown",
   "metadata": {},
   "source": [
    "# Members by Age and Gender\n",
    "## Investigation\n",
    "It would be good to see what the distribution of gender is by age, and then understand what needs to change for diversity."
   ]
  },
  {
   "cell_type": "code",
   "execution_count": 21,
   "metadata": {
    "ExecuteTime": {
     "end_time": "2017-11-24T12:07:42.204386Z",
     "start_time": "2017-11-24T12:07:33.684Z"
    }
   },
   "outputs": [
    {
     "data": {
      "text/html": [
       "<table>\n",
       "<thead><tr><th scope=col>Age.Range</th><th scope=col>Women</th><th scope=col>Men</th><th scope=col>Custom.Gender</th></tr></thead>\n",
       "<tbody>\n",
       "\t<tr><td>13-17</td><td> 127 </td><td>  268</td><td> 0   </td></tr>\n",
       "\t<tr><td>18-24</td><td>3933 </td><td>10504</td><td>14   </td></tr>\n",
       "\t<tr><td>25-34</td><td>5693 </td><td>13284</td><td> 8   </td></tr>\n",
       "\t<tr><td>35-44</td><td>1298 </td><td> 2770</td><td> 4   </td></tr>\n",
       "\t<tr><td>45-54</td><td> 399 </td><td>  702</td><td> 0   </td></tr>\n",
       "\t<tr><td>55-64</td><td> 209 </td><td>  283</td><td> 0   </td></tr>\n",
       "\t<tr><td>65+  </td><td>2127 </td><td> 3204</td><td> 3   </td></tr>\n",
       "</tbody>\n",
       "</table>\n"
      ],
      "text/latex": [
       "\\begin{tabular}{r|llll}\n",
       " Age.Range & Women & Men & Custom.Gender\\\\\n",
       "\\hline\n",
       "\t 13-17 &  127  &   268 &  0   \\\\\n",
       "\t 18-24 & 3933  & 10504 & 14   \\\\\n",
       "\t 25-34 & 5693  & 13284 &  8   \\\\\n",
       "\t 35-44 & 1298  &  2770 &  4   \\\\\n",
       "\t 45-54 &  399  &   702 &  0   \\\\\n",
       "\t 55-64 &  209  &   283 &  0   \\\\\n",
       "\t 65+   & 2127  &  3204 &  3   \\\\\n",
       "\\end{tabular}\n"
      ],
      "text/markdown": [
       "\n",
       "Age.Range | Women | Men | Custom.Gender | \n",
       "|---|---|---|---|---|---|---|\n",
       "| 13-17 |  127  |   268 |  0    | \n",
       "| 18-24 | 3933  | 10504 | 14    | \n",
       "| 25-34 | 5693  | 13284 |  8    | \n",
       "| 35-44 | 1298  |  2770 |  4    | \n",
       "| 45-54 |  399  |   702 |  0    | \n",
       "| 55-64 |  209  |   283 |  0    | \n",
       "| 65+   | 2127  |  3204 |  3    | \n",
       "\n",
       "\n"
      ],
      "text/plain": [
       "  Age.Range Women Men   Custom.Gender\n",
       "1 13-17      127    268  0           \n",
       "2 18-24     3933  10504 14           \n",
       "3 25-34     5693  13284  8           \n",
       "4 35-44     1298   2770  4           \n",
       "5 45-54      399    702  0           \n",
       "6 55-64      209    283  0           \n",
       "7 65+       2127   3204  3           "
      ]
     },
     "metadata": {},
     "output_type": "display_data"
    }
   ],
   "source": [
    "MAG = lst$`Members--Age and Gender`\n",
    "\n",
    "MAG <- MAG %>%\n",
    "  select(-one_of(c('X..Custom.Gender', 'X..Women', 'X..Men')))\n",
    "\n",
    "glimpse(MAG)"
   ]
  },
  {
   "cell_type": "markdown",
   "metadata": {},
   "source": [
    "Its hard to see clearly, but I think that there are mostly Men and Women, so lets focus on that relationship. Maybe we can come up with new ideas if we plot it."
   ]
  },
  {
   "cell_type": "code",
   "execution_count": 22,
   "metadata": {
    "ExecuteTime": {
     "end_time": "2017-11-24T12:07:42.853850Z",
     "start_time": "2017-11-24T12:07:33.686Z"
    }
   },
   "outputs": [
    {
     "data": {},
     "metadata": {},
     "output_type": "display_data"
    },
    {
     "data": {
      "image/png": "[encoded data removed]",
      "text/plain": [
       "plot without title"
      ]
     },
     "metadata": {},
     "output_type": "display_data"
    }
   ],
   "source": [
    "MAG <-\n",
    " MAG %>% select(-one_of(c('Custom.Gender')))\n",
    "MAG_m <- reshape2:::melt.data.frame(MAG, id='Age.Range', variable.name='Gender', value.name='Person.Count')\n",
    "\n",
    "ggplot(MAG_m, aes(x=Age.Range, y=Person.Count)) +\n",
    "  geom_bar(aes(fill=Gender), position = \"dodge\", stat = \"identity\")"
   ]
  },
  {
   "cell_type": "markdown",
   "metadata": {},
   "source": [
    "Obviously its male dominated at every age range. Is that interesting at all? Yes and no. \n",
    "\n",
    "* Yes\n",
    "    * Its good to know\n",
    "* No\n",
    "    * How much will this graph change over time? \n",
    "    * If diversity is important, how can we tell if we are getting better?\n",
    "    \n",
    "Lets look at this from a different angle. We already know there are a lot more men. But why dont we look at how many women we expect, vs how many there are."
   ]
  },
  {
   "cell_type": "code",
   "execution_count": 23,
   "metadata": {
    "ExecuteTime": {
     "end_time": "2017-11-24T12:07:43.172075Z",
     "start_time": "2017-11-24T12:07:33.688Z"
    }
   },
   "outputs": [
    {
     "data": {},
     "metadata": {},
     "output_type": "display_data"
    },
    {
     "data": {
      "image/png": "[encoded data removed]",
      "text/plain": [
       "plot without title"
      ]
     },
     "metadata": {},
     "output_type": "display_data"
    }
   ],
   "source": [
    "women_men_rat = sum(MAG$Women)/sum(MAG$Men)\n",
    "MAG$expected_women = women_men_rat * MAG$Men\n",
    "\n",
    "MAG_adjusted <- MAG %>% \n",
    "  subset(select=-Men) %>%\n",
    "  reshape2:::melt.data.frame(id='Age.Range', variable.name='Gender', value.name='Person.Count')\n",
    "\n",
    "ggplot(MAG_adjusted, aes(x=Age.Range, y=Person.Count)) +\n",
    "  geom_bar(aes(fill=Gender), position = \"dodge\", stat = \"identity\")"
   ]
  },
  {
   "cell_type": "markdown",
   "metadata": {},
   "source": [
    "Now we have something of interest, how many women do we expect vs how many do we have? We can see that we have more women than expected for 65+ and less than expected for 18-24. We could go more in-depth and show percentages if we were interested. "
   ]
  },
  {
   "cell_type": "markdown",
   "metadata": {},
   "source": [
    "# Members By Country\n",
    "## Investigation\n",
    "This is pretty straightforward data, I don't expect there is much to do except create a [choropleth](https://en.wikipedia.org/wiki/Choropleth_map), and maybe look for a better way to show Kenya, as there is a disproportionate amount of people there. Possibly a log-scale if necessary? But it might not be."
   ]
  },
  {
   "cell_type": "code",
   "execution_count": 24,
   "metadata": {
    "ExecuteTime": {
     "end_time": "2017-11-24T12:07:43.225111Z",
     "start_time": "2017-11-24T12:07:33.690Z"
    }
   },
   "outputs": [
    {
     "data": {
      "text/html": [
       "<table>\n",
       "<thead><tr><th scope=col>region</th><th scope=col>value</th></tr></thead>\n",
       "<tbody>\n",
       "\t<tr><td>kenya               </td><td>42473               </td></tr>\n",
       "\t<tr><td>united states       </td><td>  294               </td></tr>\n",
       "\t<tr><td>tanzania            </td><td>  179               </td></tr>\n",
       "\t<tr><td>qatar               </td><td>  170               </td></tr>\n",
       "\t<tr><td>united arab emirates</td><td>  158               </td></tr>\n",
       "\t<tr><td>vietnam             </td><td>  155               </td></tr>\n",
       "</tbody>\n",
       "</table>\n"
      ],
      "text/latex": [
       "\\begin{tabular}{r|ll}\n",
       " region & value\\\\\n",
       "\\hline\n",
       "\t kenya                & 42473               \\\\\n",
       "\t united states        &   294               \\\\\n",
       "\t tanzania             &   179               \\\\\n",
       "\t qatar                &   170               \\\\\n",
       "\t united arab emirates &   158               \\\\\n",
       "\t vietnam              &   155               \\\\\n",
       "\\end{tabular}\n"
      ],
      "text/markdown": [
       "\n",
       "region | value | \n",
       "|---|---|---|---|---|---|\n",
       "| kenya                | 42473                | \n",
       "| united states        |   294                | \n",
       "| tanzania             |   179                | \n",
       "| qatar                |   170                | \n",
       "| united arab emirates |   158                | \n",
       "| vietnam              |   155                | \n",
       "\n",
       "\n"
      ],
      "text/plain": [
       "  region               value\n",
       "1 kenya                42473\n",
       "2 united states          294\n",
       "3 tanzania               179\n",
       "4 qatar                  170\n",
       "5 united arab emirates   158\n",
       "6 vietnam                155"
      ]
     },
     "metadata": {},
     "output_type": "display_data"
    }
   ],
   "source": [
    "by.Country = lst$`Members--Country`\n",
    "names(by.Country) <- c('region', 'value')\n",
    "by.Country$region <- sapply(by.Country$region, tolower)\n",
    "head(by.Country)"
   ]
  },
  {
   "cell_type": "code",
   "execution_count": 25,
   "metadata": {
    "ExecuteTime": {
     "end_time": "2017-11-24T12:07:43.291159Z",
     "start_time": "2017-11-24T12:07:33.693Z"
    },
    "collapsed": true
   },
   "outputs": [],
   "source": [
    "by.Country$region <- recode(by.Country$region,`united states`='united states of america',`tanzania`='united republic of tanzania',`côte d\\'ivoire`='ivory coast', `serbia` = 'republic of serbia') "
   ]
  },
  {
   "cell_type": "code",
   "execution_count": 26,
   "metadata": {
    "ExecuteTime": {
     "end_time": "2017-11-24T12:07:43.336190Z",
     "start_time": "2017-11-24T12:07:33.695Z"
    },
    "collapsed": true
   },
   "outputs": [],
   "source": [
    "by.Country <- by.Country[ ! by.Country$region %in% c('bahrain','taiwan','mauritius','singapore','seychelles','cayman islands'), ]"
   ]
  },
  {
   "cell_type": "code",
   "execution_count": 27,
   "metadata": {
    "ExecuteTime": {
     "end_time": "2017-11-24T12:07:43.941622Z",
     "start_time": "2017-11-24T12:07:33.697Z"
    }
   },
   "outputs": [
    {
     "data": {},
     "metadata": {},
     "output_type": "display_data"
    },
    {
     "data": {
      "image/png": "[encoded data removed]",
      "text/plain": [
       "plot without title"
      ]
     },
     "metadata": {},
     "output_type": "display_data"
    }
   ],
   "source": [
    "country_choropleth(by.Country, title='Members by Country')"
   ]
  }
 ],
 "metadata": {
  "hide_input": true,
  "kernelspec": {
   "display_name": "R",
   "language": "R",
   "name": "ir"
  },
  "language_info": {
   "codemirror_mode": "r",
   "file_extension": ".r",
   "mimetype": "text/x-r-source",
   "name": "R",
   "pygments_lexer": "r",
   "version": "3.4.2"
  }
 },
 "nbformat": 4,
 "nbformat_minor": 2
}
